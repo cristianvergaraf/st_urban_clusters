{
 "cells": [
  {
   "cell_type": "code",
   "execution_count": 11,
   "id": "66102537-86f7-4379-9331-06c78b75be4f",
   "metadata": {
    "tags": []
   },
   "outputs": [],
   "source": [
    "import pandas as pd"
   ]
  },
  {
   "cell_type": "code",
   "execution_count": 61,
   "id": "fb570faa-5366-4478-9d88-59212464821d",
   "metadata": {
    "tags": []
   },
   "outputs": [
    {
     "ename": "SyntaxError",
     "evalue": "EOL while scanning string literal (3497729535.py, line 1)",
     "output_type": "error",
     "traceback": [
      "\u001b[1;36m  Cell \u001b[1;32mIn [61], line 1\u001b[1;36m\u001b[0m\n\u001b[1;33m    metricas_Descripcion = pd.read_csv(\"metricas_descripcion.csv\", index_col = 'Metric', escapechar = \"\\\")\u001b[0m\n\u001b[1;37m                                                                                                          ^\u001b[0m\n\u001b[1;31mSyntaxError\u001b[0m\u001b[1;31m:\u001b[0m EOL while scanning string literal\n"
     ]
    }
   ],
   "source": [
    "metricas_Descripcion = pd.read_csv(\"metricas_descripcion.csv\", index_col = 'Metric')"
   ]
  },
  {
   "cell_type": "code",
   "execution_count": 63,
   "id": "6f098a7e-6433-48ca-913c-5b78a557e6e6",
   "metadata": {
    "tags": []
   },
   "outputs": [
    {
     "name": "stdout",
     "output_type": "stream",
     "text": [
      "Patch richness density standardizes richness to a per area basis that facilitates\n",
      "comparison among landscapes. Note, this metric is redundant with both patch\n",
      "richness and relative patch richness\n"
     ]
    }
   ],
   "source": [
    "print(metricas_Descripcion.loc[\"PRD\",\"Comments\"])"
   ]
  },
  {
   "cell_type": "code",
   "execution_count": 47,
   "id": "c7238cf7-da5f-4e32-a6ff-080254510175",
   "metadata": {
    "tags": []
   },
   "outputs": [],
   "source": [
    "pd.options.display.max_colwidth = 90"
   ]
  },
  {
   "cell_type": "code",
   "execution_count": null,
   "id": "828e5270-c8aa-4e6d-aeaf-1dee98166fc9",
   "metadata": {},
   "outputs": [],
   "source": [
    "escapechar"
   ]
  },
  {
   "cell_type": "code",
   "execution_count": 51,
   "id": "336ba6e5-484f-49f2-b9cc-614bb9f0f2b4",
   "metadata": {
    "tags": []
   },
   "outputs": [
    {
     "data": {
      "text/html": [
       "<div>\n",
       "<style scoped>\n",
       "    .dataframe tbody tr th:only-of-type {\n",
       "        vertical-align: middle;\n",
       "    }\n",
       "\n",
       "    .dataframe tbody tr th {\n",
       "        vertical-align: top;\n",
       "    }\n",
       "\n",
       "    .dataframe thead th {\n",
       "        text-align: right;\n",
       "    }\n",
       "</style>\n",
       "<table border=\"1\" class=\"dataframe\">\n",
       "  <thead>\n",
       "    <tr style=\"text-align: right;\">\n",
       "      <th></th>\n",
       "      <th>Metric</th>\n",
       "      <th>Name</th>\n",
       "      <th>Description</th>\n",
       "      <th>Range</th>\n",
       "      <th>Comments</th>\n",
       "    </tr>\n",
       "  </thead>\n",
       "  <tbody>\n",
       "    <tr>\n",
       "      <th>11</th>\n",
       "      <td>MESH</td>\n",
       "      <td>Effective Mesh Size</td>\n",
       "      <td>MESH equals the sum of patch area squared, summed across all patches of the\\ncorrespon...</td>\n",
       "      <td>ratio of cell size to landscape area &lt;= MESH &lt;= total landscape area (A)\\nThe lower li...</td>\n",
       "      <td>Mesh is based on the cumulative patch area distribution and is interpreted as the\\nsiz...</td>\n",
       "    </tr>\n",
       "  </tbody>\n",
       "</table>\n",
       "</div>"
      ],
      "text/plain": [
       "   Metric                 Name  \\\n",
       "11   MESH  Effective Mesh Size   \n",
       "\n",
       "                                                                                  Description  \\\n",
       "11  MESH equals the sum of patch area squared, summed across all patches of the\\ncorrespon...   \n",
       "\n",
       "                                                                                        Range  \\\n",
       "11  ratio of cell size to landscape area <= MESH <= total landscape area (A)\\nThe lower li...   \n",
       "\n",
       "                                                                                     Comments  \n",
       "11  Mesh is based on the cumulative patch area distribution and is interpreted as the\\nsiz...  "
      ]
     },
     "execution_count": 51,
     "metadata": {},
     "output_type": "execute_result"
    }
   ],
   "source": [
    "metricas_Descripcion[metricas_Descripcion.loc[:,\"Metric\"] == 'MESH']"
   ]
  },
  {
   "cell_type": "code",
   "execution_count": 52,
   "id": "5a5447d9-19ba-4e3e-a32f-b626e7fd29fa",
   "metadata": {
    "tags": []
   },
   "outputs": [
    {
     "data": {
      "text/plain": [
       "11    Mesh is based on the cumulative patch area distribution and is interpreted as the\\nsiz...\n",
       "Name: Comments, dtype: object"
      ]
     },
     "execution_count": 52,
     "metadata": {},
     "output_type": "execute_result"
    }
   ],
   "source": [
    "metricas_Descripcion.query(\"Metric == 'MESH'\")['Comments']"
   ]
  },
  {
   "cell_type": "code",
   "execution_count": 53,
   "id": "338c83c8-3294-4b66-9e62-45e6ff45c7af",
   "metadata": {
    "tags": []
   },
   "outputs": [
    {
     "data": {
      "text/plain": [
       "\"Simpson’s diversity index is another popular diversity measure borrowed from\\ncommunity ecology. Simpson's index is less sensitive to the presence of rare types\\nand has an interpretation that is much more intuitive than Shannon's index.\\nSpecifically, the value of Simpson's index represents the probability that any 2\\npixels selected at random would be different patch types.\""
      ]
     },
     "execution_count": 53,
     "metadata": {},
     "output_type": "execute_result"
    }
   ],
   "source": [
    "metricas_Descripcion.loc[3,\"Comments\"]"
   ]
  },
  {
   "cell_type": "code",
   "execution_count": 12,
   "id": "c98d81ec-fdff-48b0-949c-1484c8e2bfa9",
   "metadata": {},
   "outputs": [],
   "source": [
    "datos = pd.read_csv('ciudades_paisaje_filter.csv')"
   ]
  },
  {
   "cell_type": "code",
   "execution_count": 13,
   "id": "90a38d08-6088-48b1-b070-fa1378bbe087",
   "metadata": {
    "tags": []
   },
   "outputs": [
    {
     "data": {
      "text/plain": [
       "Index(['Unnamed: 0', 'PR', 'PRD', 'SHDI', 'SIDI', 'MSIDI', 'SHEI', 'SIEI',\n",
       "       'MSIEI', 'IEI', 'index_tool', 'ID', 'index', 'NP', 'DIVISION', 'SPLIT',\n",
       "       'MESH', 'variable', 'COM', 'ED_SING', 'EQUIP', 'IND', 'OCIO', 'OFI',\n",
       "       'RES_PLU', 'RES_UNI'],\n",
       "      dtype='object')"
      ]
     },
     "execution_count": 13,
     "metadata": {},
     "output_type": "execute_result"
    }
   ],
   "source": []
  },
  {
   "cell_type": "code",
   "execution_count": 6,
   "id": "e141e36e-c3d8-44ea-be2c-937ed9698b5e",
   "metadata": {
    "tags": []
   },
   "outputs": [],
   "source": [
    "from sklearn.preprocessing import StandardScaler\n"
   ]
  },
  {
   "cell_type": "code",
   "execution_count": 4,
   "id": "db1d54c9-cfc9-4985-a541-09800da75de6",
   "metadata": {
    "tags": []
   },
   "outputs": [],
   "source": [
    "from sklearn.preprocessing import MinMaxScaler"
   ]
  },
  {
   "cell_type": "code",
   "execution_count": 7,
   "id": "f078e014-f3e1-496a-a9a2-a1dc59af3a5b",
   "metadata": {
    "tags": []
   },
   "outputs": [],
   "source": [
    "MM_scaler = MinMaxScaler()\n"
   ]
  },
  {
   "cell_type": "code",
   "execution_count": 15,
   "id": "1278caf7-ad6f-4141-a89c-784b2297adeb",
   "metadata": {
    "tags": []
   },
   "outputs": [
    {
     "data": {
      "text/html": [
       "<style>#sk-container-id-1 {color: black;background-color: white;}#sk-container-id-1 pre{padding: 0;}#sk-container-id-1 div.sk-toggleable {background-color: white;}#sk-container-id-1 label.sk-toggleable__label {cursor: pointer;display: block;width: 100%;margin-bottom: 0;padding: 0.3em;box-sizing: border-box;text-align: center;}#sk-container-id-1 label.sk-toggleable__label-arrow:before {content: \"▸\";float: left;margin-right: 0.25em;color: #696969;}#sk-container-id-1 label.sk-toggleable__label-arrow:hover:before {color: black;}#sk-container-id-1 div.sk-estimator:hover label.sk-toggleable__label-arrow:before {color: black;}#sk-container-id-1 div.sk-toggleable__content {max-height: 0;max-width: 0;overflow: hidden;text-align: left;background-color: #f0f8ff;}#sk-container-id-1 div.sk-toggleable__content pre {margin: 0.2em;color: black;border-radius: 0.25em;background-color: #f0f8ff;}#sk-container-id-1 input.sk-toggleable__control:checked~div.sk-toggleable__content {max-height: 200px;max-width: 100%;overflow: auto;}#sk-container-id-1 input.sk-toggleable__control:checked~label.sk-toggleable__label-arrow:before {content: \"▾\";}#sk-container-id-1 div.sk-estimator input.sk-toggleable__control:checked~label.sk-toggleable__label {background-color: #d4ebff;}#sk-container-id-1 div.sk-label input.sk-toggleable__control:checked~label.sk-toggleable__label {background-color: #d4ebff;}#sk-container-id-1 input.sk-hidden--visually {border: 0;clip: rect(1px 1px 1px 1px);clip: rect(1px, 1px, 1px, 1px);height: 1px;margin: -1px;overflow: hidden;padding: 0;position: absolute;width: 1px;}#sk-container-id-1 div.sk-estimator {font-family: monospace;background-color: #f0f8ff;border: 1px dotted black;border-radius: 0.25em;box-sizing: border-box;margin-bottom: 0.5em;}#sk-container-id-1 div.sk-estimator:hover {background-color: #d4ebff;}#sk-container-id-1 div.sk-parallel-item::after {content: \"\";width: 100%;border-bottom: 1px solid gray;flex-grow: 1;}#sk-container-id-1 div.sk-label:hover label.sk-toggleable__label {background-color: #d4ebff;}#sk-container-id-1 div.sk-serial::before {content: \"\";position: absolute;border-left: 1px solid gray;box-sizing: border-box;top: 0;bottom: 0;left: 50%;z-index: 0;}#sk-container-id-1 div.sk-serial {display: flex;flex-direction: column;align-items: center;background-color: white;padding-right: 0.2em;padding-left: 0.2em;position: relative;}#sk-container-id-1 div.sk-item {position: relative;z-index: 1;}#sk-container-id-1 div.sk-parallel {display: flex;align-items: stretch;justify-content: center;background-color: white;position: relative;}#sk-container-id-1 div.sk-item::before, #sk-container-id-1 div.sk-parallel-item::before {content: \"\";position: absolute;border-left: 1px solid gray;box-sizing: border-box;top: 0;bottom: 0;left: 50%;z-index: -1;}#sk-container-id-1 div.sk-parallel-item {display: flex;flex-direction: column;z-index: 1;position: relative;background-color: white;}#sk-container-id-1 div.sk-parallel-item:first-child::after {align-self: flex-end;width: 50%;}#sk-container-id-1 div.sk-parallel-item:last-child::after {align-self: flex-start;width: 50%;}#sk-container-id-1 div.sk-parallel-item:only-child::after {width: 0;}#sk-container-id-1 div.sk-dashed-wrapped {border: 1px dashed gray;margin: 0 0.4em 0.5em 0.4em;box-sizing: border-box;padding-bottom: 0.4em;background-color: white;}#sk-container-id-1 div.sk-label label {font-family: monospace;font-weight: bold;display: inline-block;line-height: 1.2em;}#sk-container-id-1 div.sk-label-container {text-align: center;}#sk-container-id-1 div.sk-container {/* jupyter's `normalize.less` sets `[hidden] { display: none; }` but bootstrap.min.css set `[hidden] { display: none !important; }` so we also need the `!important` here to be able to override the default hidden behavior on the sphinx rendered scikit-learn.org. See: https://github.com/scikit-learn/scikit-learn/issues/21755 */display: inline-block !important;position: relative;}#sk-container-id-1 div.sk-text-repr-fallback {display: none;}</style><div id=\"sk-container-id-1\" class=\"sk-top-container\"><div class=\"sk-text-repr-fallback\"><pre>MinMaxScaler()</pre><b>In a Jupyter environment, please rerun this cell to show the HTML representation or trust the notebook. <br />On GitHub, the HTML representation is unable to render, please try loading this page with nbviewer.org.</b></div><div class=\"sk-container\" hidden><div class=\"sk-item\"><div class=\"sk-estimator sk-toggleable\"><input class=\"sk-toggleable__control sk-hidden--visually\" id=\"sk-estimator-id-1\" type=\"checkbox\" checked><label for=\"sk-estimator-id-1\" class=\"sk-toggleable__label sk-toggleable__label-arrow\">MinMaxScaler</label><div class=\"sk-toggleable__content\"><pre>MinMaxScaler()</pre></div></div></div></div></div>"
      ],
      "text/plain": [
       "MinMaxScaler()"
      ]
     },
     "execution_count": 15,
     "metadata": {},
     "output_type": "execute_result"
    }
   ],
   "source": [
    "MM_scaler.fit(datos.loc[:,['PR', 'PRD', 'SHDI', 'SIDI', 'MSIDI', 'SHEI', 'SIEI',\n",
    "       'MSIEI','NP', 'DIVISION', 'SPLIT',\n",
    "       'MESH', 'COM', 'ED_SING', 'EQUIP', 'IND', 'OCIO', 'OFI',\n",
    "       'RES_PLU', 'RES_UNI']])"
   ]
  },
  {
   "cell_type": "code",
   "execution_count": 18,
   "id": "5c913837-976e-43c2-8bc2-4816c137e9a4",
   "metadata": {
    "tags": []
   },
   "outputs": [
    {
     "data": {
      "text/plain": [
       "array([[0.        , 0.16171683, 0.00235165, ..., 0.08118156, 0.24990944,\n",
       "        0.50553926],\n",
       "       [0.        , 0.16063862, 0.00336794, ..., 0.33238628, 0.18056446,\n",
       "        0.11737766],\n",
       "       [0.        , 0.16063862, 0.00336794, ..., 0.87125478, 0.18424172,\n",
       "        0.60792112],\n",
       "       ...,\n",
       "       [0.        , 0.09218575, 0.0067802 , ..., 0.05324604, 0.1267292 ,\n",
       "        0.7234581 ],\n",
       "       [0.        , 0.49394623, 0.00124988, ..., 0.01496965, 0.36729047,\n",
       "        0.28716646],\n",
       "       [0.        , 0.05439909, 0.00328343, ..., 0.0288723 , 0.41594981,\n",
       "        0.19618006]])"
      ]
     },
     "execution_count": 18,
     "metadata": {},
     "output_type": "execute_result"
    }
   ],
   "source": [
    "MM_scaler.transform(datos.loc[:,['PR', 'PRD', 'SHDI', 'SIDI', 'MSIDI', 'SHEI', 'SIEI',\n",
    "       'MSIEI','NP', 'DIVISION', 'SPLIT',\n",
    "       'MESH', 'COM', 'ED_SING', 'EQUIP', 'IND', 'OCIO', 'OFI',\n",
    "       'RES_PLU', 'RES_UNI']])"
   ]
  },
  {
   "cell_type": "code",
   "execution_count": 21,
   "id": "7475aa65-cecc-4064-9faa-8d197ead6e9b",
   "metadata": {
    "tags": []
   },
   "outputs": [],
   "source": [
    "datos_min_max = pd.DataFrame(MM_scaler.transform(datos.loc[:,['PR', 'PRD', 'SHDI', 'SIDI', 'MSIDI', 'SHEI', 'SIEI',\n",
    "       'MSIEI','NP', 'DIVISION', 'SPLIT',\n",
    "       'MESH', 'COM', 'ED_SING', 'EQUIP', 'IND', 'OCIO', 'OFI',\n",
    "       'RES_PLU', 'RES_UNI']]), columns = ['PR', 'PRD', 'SHDI', 'SIDI', 'MSIDI', 'SHEI', 'SIEI',\n",
    "       'MSIEI','NP', 'DIVISION', 'SPLIT',\n",
    "       'MESH', 'COM', 'ED_SING', 'EQUIP', 'IND', 'OCIO', 'OFI',\n",
    "       'RES_PLU', 'RES_UNI'])"
   ]
  },
  {
   "cell_type": "code",
   "execution_count": 23,
   "id": "e1dc25d4-62fb-4913-b2ed-61bd10ba827c",
   "metadata": {
    "tags": []
   },
   "outputs": [],
   "source": [
    "datos_min_max['ciudades'] = datos.variable"
   ]
  },
  {
   "cell_type": "code",
   "execution_count": 25,
   "id": "d560254e-4c50-4427-a13d-c2cf6a010421",
   "metadata": {
    "tags": []
   },
   "outputs": [],
   "source": [
    "datos_min_max['ciudades'] = datos.index_tool"
   ]
  },
  {
   "cell_type": "code",
   "execution_count": 28,
   "id": "7b4f6660-6c49-427f-a108-beef8a1bde8c",
   "metadata": {
    "tags": []
   },
   "outputs": [
    {
     "name": "stderr",
     "output_type": "stream",
     "text": [
      "C:\\Users\\crist\\AppData\\Local\\Temp\\ipykernel_19336\\4136609346.py:1: FutureWarning: The default value of regex will change from True to False in a future version.\n",
      "  datos_min_max['ciudades'] = datos_min_max[\"ciudades\"].str.replace(\".txt\", \"\")\n"
     ]
    }
   ],
   "source": [
    "datos_min_max['ciudades'] = datos_min_max[\"ciudades\"].str.replace(\".txt\", \"\")"
   ]
  },
  {
   "cell_type": "code",
   "execution_count": 40,
   "id": "6a3baafb-0d85-4c05-aca1-5246d85bd224",
   "metadata": {
    "tags": []
   },
   "outputs": [],
   "source": [
    "datos_min_max.columns = datos_min_max.columns.str.replace(\" \",\"\")"
   ]
  },
  {
   "cell_type": "code",
   "execution_count": 45,
   "id": "95d777f1-fbc6-487e-974a-1b75c5951b80",
   "metadata": {
    "tags": []
   },
   "outputs": [],
   "source": [
    "ciudades= datos_min_max.pop('ciudades')"
   ]
  },
  {
   "cell_type": "code",
   "execution_count": 46,
   "id": "302ee2d6-6a4b-4628-ae7a-79caa52f8969",
   "metadata": {
    "tags": []
   },
   "outputs": [],
   "source": [
    "datos_min_max.insert(0,'ciudades',ciudades)"
   ]
  },
  {
   "cell_type": "code",
   "execution_count": 49,
   "id": "cbf25ed3-4bfd-4838-a649-bc952a441ba3",
   "metadata": {
    "tags": []
   },
   "outputs": [],
   "source": [
    "datos_min_max = datos_min_max.drop('PR', axis =1)"
   ]
  },
  {
   "cell_type": "code",
   "execution_count": 50,
   "id": "c580bb20-364a-4906-8e37-a01e094ea1c2",
   "metadata": {
    "tags": []
   },
   "outputs": [],
   "source": [
    "datos_min_max.to_csv('ciudades_paisaje_filter_mm.csv')"
   ]
  },
  {
   "cell_type": "markdown",
   "id": "ffcc1e56-cc3b-46eb-bd67-88072b8d7e8c",
   "metadata": {},
   "source": [
    "## Revisar metricas"
   ]
  },
  {
   "cell_type": "code",
   "execution_count": 1,
   "id": "0e2891b2-ab66-411b-92d2-27be5ac3f26a",
   "metadata": {
    "tags": []
   },
   "outputs": [],
   "source": [
    "import pandas as pd"
   ]
  },
  {
   "cell_type": "code",
   "execution_count": 7,
   "id": "28594537-3e19-4367-86b0-3b725390872a",
   "metadata": {
    "tags": []
   },
   "outputs": [],
   "source": [
    "datos = pd.read_csv('ciudades_paisaje_filter_metricas.csv', encoding = \"ISO-8859-1\")"
   ]
  },
  {
   "cell_type": "code",
   "execution_count": 9,
   "id": "c778fa61-ef8d-4617-b43f-7340e1cac8eb",
   "metadata": {
    "tags": []
   },
   "outputs": [
    {
     "data": {
      "text/plain": [
       "Index(['Unnamed: 0', 'ciudades', 'Ciudad Coches', 'PR', 'PRD', 'SHDI', 'SIDI',\n",
       "       'MSIDI', 'SHEI', 'SIEI', 'MSIEI', 'NP', 'DIVISION', 'SPLIT', 'MESH',\n",
       "       'variable', 'COM', 'ED_SING', 'EQUIP', 'IND', 'OCIO', 'OFI', 'RES_PLU',\n",
       "       'RES_UNI', 'PAFRAC', 'SHAPE_MN', 'SHAPE_MD', 'PARA_MN', 'PARA_MD',\n",
       "       'FRAC_MN', 'FRAC_MD', 'SQUARE_MN', 'SQUARE_MD', 'TA', 'LPI', 'AREA_MN',\n",
       "       'AREA_AM', 'AREA_MD', 'GYRATE_MN', 'GYRATE_AM', 'GYRATE_MD',\n",
       "       'RNMDP_2020', 'PobT', 'PobH', 'PobM', 'Vehiculos', 'T_Viviendas',\n",
       "       'T_ Viv_ prin', 'T_Viv_Sec'],\n",
       "      dtype='object')"
      ]
     },
     "execution_count": 9,
     "metadata": {},
     "output_type": "execute_result"
    }
   ],
   "source": [
    "datos.columns"
   ]
  },
  {
   "cell_type": "markdown",
   "id": "969508d1-ff05-4612-ac1d-a6dd405d4264",
   "metadata": {},
   "source": [
    "## Vamos a revisar la normalizacion de los datos usando std scaler "
   ]
  },
  {
   "cell_type": "code",
   "execution_count": 51,
   "id": "60339073-2398-4f70-9204-abcbffdf9685",
   "metadata": {
    "tags": []
   },
   "outputs": [],
   "source": [
    "variables = datos.loc[:,['PR', 'PRD', 'SHDI', 'SIDI',\n",
    "       'MSIDI', 'SHEI', 'SIEI', 'MSIEI', 'NP', 'DIVISION', 'SPLIT', 'MESH', 'COM', 'ED_SING', 'EQUIP', 'IND', 'OCIO', 'OFI', 'RES_PLU',\n",
    "       'RES_UNI', 'PAFRAC', 'SHAPE_MN', 'SHAPE_MD', 'PARA_MN', 'PARA_MD',\n",
    "       'FRAC_MN', 'FRAC_MD', 'SQUARE_MN', 'SQUARE_MD', 'TA', 'LPI', 'AREA_MN',\n",
    "       'AREA_AM', 'AREA_MD', 'GYRATE_MN', 'GYRATE_AM', 'GYRATE_MD',\n",
    "       'RNMDP_2020', 'PobT', 'PobH', 'PobM', 'Vehiculos', 'T_Viviendas',\n",
    "       'T_ Viv_ prin', 'T_Viv_Sec']]"
   ]
  },
  {
   "cell_type": "code",
   "execution_count": null,
   "id": "f0686306-66a4-4bbc-a027-4157317ce60e",
   "metadata": {},
   "outputs": [],
   "source": [
    "# FRAC MN GENERA UN ERROR "
   ]
  },
  {
   "cell_type": "code",
   "execution_count": 69,
   "id": "610b3c27-443d-481d-aa38-250664165164",
   "metadata": {
    "tags": []
   },
   "outputs": [],
   "source": [
    "var = datos.loc[:,['FRAC_MN', 'FRAC_MD', 'SQUARE_MN', 'SQUARE_MD', 'TA', 'LPI', 'AREA_MN']]"
   ]
  },
  {
   "cell_type": "code",
   "execution_count": 70,
   "id": "e87dfea9-1151-4c84-8b30-ef92fa955259",
   "metadata": {
    "tags": []
   },
   "outputs": [],
   "source": [
    "from sklearn.preprocessing import StandardScaler"
   ]
  },
  {
   "cell_type": "code",
   "execution_count": 71,
   "id": "8698d4c3-08bf-4413-a756-0ffea2f52bc7",
   "metadata": {
    "tags": []
   },
   "outputs": [],
   "source": [
    "standar = StandardScaler()"
   ]
  },
  {
   "cell_type": "code",
   "execution_count": 78,
   "id": "1e0d0014-d7c1-49eb-a941-cfb8a70b5696",
   "metadata": {
    "tags": []
   },
   "outputs": [],
   "source": [
    "data = standar.fit_transform(var)"
   ]
  },
  {
   "cell_type": "code",
   "execution_count": 81,
   "id": "a2e1323f-75ba-4640-98ee-48a74f7b657f",
   "metadata": {
    "tags": []
   },
   "outputs": [
    {
     "data": {
      "text/html": [
       "<div>\n",
       "<style scoped>\n",
       "    .dataframe tbody tr th:only-of-type {\n",
       "        vertical-align: middle;\n",
       "    }\n",
       "\n",
       "    .dataframe tbody tr th {\n",
       "        vertical-align: top;\n",
       "    }\n",
       "\n",
       "    .dataframe thead tr th {\n",
       "        text-align: left;\n",
       "    }\n",
       "</style>\n",
       "<table border=\"1\" class=\"dataframe\">\n",
       "  <thead>\n",
       "    <tr>\n",
       "      <th></th>\n",
       "      <th>FRAC_MD</th>\n",
       "      <th>SQUARE_MN</th>\n",
       "      <th>SQUARE_MD</th>\n",
       "      <th>TA</th>\n",
       "      <th>LPI</th>\n",
       "      <th>AREA_MN</th>\n",
       "    </tr>\n",
       "  </thead>\n",
       "  <tbody>\n",
       "    <tr>\n",
       "      <th>0</th>\n",
       "      <td>-1.151300</td>\n",
       "      <td>0.197971</td>\n",
       "      <td>-0.906191</td>\n",
       "      <td>-0.071096</td>\n",
       "      <td>-0.269735</td>\n",
       "      <td>0.250672</td>\n",
       "    </tr>\n",
       "    <tr>\n",
       "      <th>1</th>\n",
       "      <td>1.374285</td>\n",
       "      <td>0.197972</td>\n",
       "      <td>1.004667</td>\n",
       "      <td>-0.067819</td>\n",
       "      <td>-0.329767</td>\n",
       "      <td>0.622991</td>\n",
       "    </tr>\n",
       "    <tr>\n",
       "      <th>2</th>\n",
       "      <td>-1.764707</td>\n",
       "      <td>0.197881</td>\n",
       "      <td>-1.060452</td>\n",
       "      <td>-0.142690</td>\n",
       "      <td>-0.275571</td>\n",
       "      <td>3.472135</td>\n",
       "    </tr>\n",
       "    <tr>\n",
       "      <th>3</th>\n",
       "      <td>-0.421857</td>\n",
       "      <td>0.197971</td>\n",
       "      <td>-0.034193</td>\n",
       "      <td>-0.338997</td>\n",
       "      <td>-0.223809</td>\n",
       "      <td>1.084209</td>\n",
       "    </tr>\n",
       "    <tr>\n",
       "      <th>4</th>\n",
       "      <td>0.413688</td>\n",
       "      <td>0.197971</td>\n",
       "      <td>-0.392733</td>\n",
       "      <td>-0.248543</td>\n",
       "      <td>-0.380724</td>\n",
       "      <td>-0.739466</td>\n",
       "    </tr>\n",
       "    <tr>\n",
       "      <th>...</th>\n",
       "      <td>...</td>\n",
       "      <td>...</td>\n",
       "      <td>...</td>\n",
       "      <td>...</td>\n",
       "      <td>...</td>\n",
       "      <td>...</td>\n",
       "    </tr>\n",
       "    <tr>\n",
       "      <th>67</th>\n",
       "      <td>-0.411255</td>\n",
       "      <td>0.197971</td>\n",
       "      <td>-0.289657</td>\n",
       "      <td>0.111899</td>\n",
       "      <td>-0.321690</td>\n",
       "      <td>-0.705735</td>\n",
       "    </tr>\n",
       "    <tr>\n",
       "      <th>68</th>\n",
       "      <td>-0.295636</td>\n",
       "      <td>0.197971</td>\n",
       "      <td>0.009061</td>\n",
       "      <td>0.308499</td>\n",
       "      <td>-0.350558</td>\n",
       "      <td>1.260925</td>\n",
       "    </tr>\n",
       "    <tr>\n",
       "      <th>69</th>\n",
       "      <td>-0.107140</td>\n",
       "      <td>0.197972</td>\n",
       "      <td>0.343298</td>\n",
       "      <td>0.278699</td>\n",
       "      <td>-0.103624</td>\n",
       "      <td>-0.486237</td>\n",
       "    </tr>\n",
       "    <tr>\n",
       "      <th>70</th>\n",
       "      <td>0.056480</td>\n",
       "      <td>0.197971</td>\n",
       "      <td>-0.208111</td>\n",
       "      <td>-0.416025</td>\n",
       "      <td>0.614602</td>\n",
       "      <td>-0.517918</td>\n",
       "    </tr>\n",
       "    <tr>\n",
       "      <th>71</th>\n",
       "      <td>-0.898524</td>\n",
       "      <td>0.197961</td>\n",
       "      <td>-0.807445</td>\n",
       "      <td>0.774711</td>\n",
       "      <td>-0.439535</td>\n",
       "      <td>0.843030</td>\n",
       "    </tr>\n",
       "  </tbody>\n",
       "</table>\n",
       "<p>72 rows × 6 columns</p>\n",
       "</div>"
      ],
      "text/plain": [
       "     FRAC_MD SQUARE_MN SQUARE_MD        TA       LPI   AREA_MN\n",
       "0  -1.151300  0.197971 -0.906191 -0.071096 -0.269735  0.250672\n",
       "1   1.374285  0.197972  1.004667 -0.067819 -0.329767  0.622991\n",
       "2  -1.764707  0.197881 -1.060452 -0.142690 -0.275571  3.472135\n",
       "3  -0.421857  0.197971 -0.034193 -0.338997 -0.223809  1.084209\n",
       "4   0.413688  0.197971 -0.392733 -0.248543 -0.380724 -0.739466\n",
       "..       ...       ...       ...       ...       ...       ...\n",
       "67 -0.411255  0.197971 -0.289657  0.111899 -0.321690 -0.705735\n",
       "68 -0.295636  0.197971  0.009061  0.308499 -0.350558  1.260925\n",
       "69 -0.107140  0.197972  0.343298  0.278699 -0.103624 -0.486237\n",
       "70  0.056480  0.197971 -0.208111 -0.416025  0.614602 -0.517918\n",
       "71 -0.898524  0.197961 -0.807445  0.774711 -0.439535  0.843030\n",
       "\n",
       "[72 rows x 6 columns]"
      ]
     },
     "execution_count": 81,
     "metadata": {},
     "output_type": "execute_result"
    }
   ],
   "source": [
    "pd.DataFrame(data, columns= [var.columns])"
   ]
  },
  {
   "cell_type": "markdown",
   "id": "8a023254-0f33-4414-b76f-8552eea0a344",
   "metadata": {
    "tags": []
   },
   "source": [
    "## Igualmente podemos revisar la normalizacion usando MinMaxscaler"
   ]
  },
  {
   "cell_type": "code",
   "execution_count": null,
   "id": "bba0adf3-4df5-4f03-ac8d-45877d8b0dea",
   "metadata": {},
   "outputs": [],
   "source": []
  }
 ],
 "metadata": {
  "kernelspec": {
   "display_name": "Python 3 (ipykernel)",
   "language": "python",
   "name": "python3"
  },
  "language_info": {
   "codemirror_mode": {
    "name": "ipython",
    "version": 3
   },
   "file_extension": ".py",
   "mimetype": "text/x-python",
   "name": "python",
   "nbconvert_exporter": "python",
   "pygments_lexer": "ipython3",
   "version": "3.9.13"
  }
 },
 "nbformat": 4,
 "nbformat_minor": 5
}
